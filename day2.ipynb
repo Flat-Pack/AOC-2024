{
 "cells": [
  {
   "cell_type": "markdown",
   "metadata": {
    "id": "WN2qZK0hyhF7"
   },
   "source": [
    "#### P1"
   ]
  },
  {
   "cell_type": "code",
   "execution_count": 1,
   "metadata": {
    "executionInfo": {
     "elapsed": 25,
     "status": "ok",
     "timestamp": 1750051301490,
     "user": {
      "displayName": "Zach Bishop",
      "userId": "01140912989120325698"
     },
     "user_tz": -600
    },
    "id": "ohu7jbjqko_L"
   },
   "outputs": [],
   "source": [
    "reports = []\n",
    "\n",
    "with open(\"day2.txt\", \"r\") as file:\n",
    "  for line in file:\n",
    "    x = line.strip(\"\\n\").split(\" \")\n",
    "    reports.append(list(map(int, x)))"
   ]
  },
  {
   "cell_type": "code",
   "execution_count": 2,
   "metadata": {
    "colab": {
     "base_uri": "https://localhost:8080/"
    },
    "executionInfo": {
     "elapsed": 31,
     "status": "ok",
     "timestamp": 1750051301523,
     "user": {
      "displayName": "Zach Bishop",
      "userId": "01140912989120325698"
     },
     "user_tz": -600
    },
    "id": "JOOW5UG3l4ao",
    "outputId": "f6036c24-4803-47d4-c9b3-c1fceeb0d6ab"
   },
   "outputs": [
    {
     "name": "stdout",
     "output_type": "stream",
     "text": [
      "407\n"
     ]
    }
   ],
   "source": [
    "def is_safe(report):\n",
    "  # edge case\n",
    "  if len(report) == 1:\n",
    "    return True\n",
    "\n",
    "  diffs = [report[i] - report[i + 1] for i in range(len(report) - 1)]\n",
    "\n",
    "  # ensure ascending or descending order\n",
    "  if not (all(z > 0 for z in diffs) or all(z < 0 for z in diffs)):\n",
    "    return False\n",
    "\n",
    "  # check for 'gradually' asc/desc\n",
    "  if all(abs(diff) in [1, 2, 3] for diff in diffs):\n",
    "    return True\n",
    "  return False\n",
    "\n",
    "total = 0\n",
    "for report in reports:\n",
    "  if is_safe(report):\n",
    "    total += 1\n",
    "\n",
    "print(total)"
   ]
  },
  {
   "cell_type": "markdown",
   "metadata": {
    "id": "D1QryU2AFzmf"
   },
   "source": [
    "#### P2"
   ]
  },
  {
   "cell_type": "code",
   "execution_count": 5,
   "metadata": {
    "colab": {
     "base_uri": "https://localhost:8080/"
    },
    "executionInfo": {
     "elapsed": 11,
     "status": "ok",
     "timestamp": 1750051461563,
     "user": {
      "displayName": "Zach Bishop",
      "userId": "01140912989120325698"
     },
     "user_tz": -600
    },
    "id": "voxNp__iF7xL",
    "outputId": "7e1fd3e8-7afd-40f7-90e7-79ca7ea30d8c"
   },
   "outputs": [
    {
     "name": "stdout",
     "output_type": "stream",
     "text": [
      "459\n"
     ]
    }
   ],
   "source": [
    "def dampener(report):\n",
    "  # edge case\n",
    "  if len(report) == 2:\n",
    "    return True\n",
    "\n",
    "  # check if base report is safe\n",
    "  if is_safe(report):\n",
    "    return True\n",
    "\n",
    "  # for each value in the report\n",
    "  # remove one item at a time and check if safe\n",
    "  for i in range(len(report)):\n",
    "    if is_safe(report[:i] + report[i + 1:]):\n",
    "      return True\n",
    "  return False\n",
    "\n",
    "total = 0\n",
    "for report in reports:\n",
    "  if dampener(report):\n",
    "    total += 1\n",
    "\n",
    "print(total)"
   ]
  }
 ],
 "metadata": {
  "colab": {
   "authorship_tag": "ABX9TyOpSt4L77IsKUTw0QF0zLbU",
   "provenance": []
  },
  "kernelspec": {
   "display_name": "Python 3",
   "name": "python3"
  },
  "language_info": {
   "name": "python"
  }
 },
 "nbformat": 4,
 "nbformat_minor": 0
}
