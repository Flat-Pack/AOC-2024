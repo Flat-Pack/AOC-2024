{
 "cells": [
  {
   "cell_type": "markdown",
   "metadata": {
    "id": "TqFX7zbgz7cF"
   },
   "source": [
    "#### P1"
   ]
  },
  {
   "cell_type": "code",
   "execution_count": 41,
   "metadata": {
    "executionInfo": {
     "elapsed": 9,
     "status": "ok",
     "timestamp": 1749960979250,
     "user": {
      "displayName": "Zach Bishop",
      "userId": "01140912989120325698"
     },
     "user_tz": -600
    },
    "id": "F2FLHDImAOxD"
   },
   "outputs": [],
   "source": [
    "import pandas as pd\n",
    "import numpy as np\n",
    "\n",
    "data = pd.read_csv('day1-data.csv', header=None)\n",
    "\n",
    "for i, e in enumerate(data):\n",
    "    data[i] = data[i].str.replace(\"   \", \",\")\n",
    "\n",
    "data[['left', 'right']] = data[0].str.split(',', expand=True)"
   ]
  },
  {
   "cell_type": "code",
   "execution_count": 44,
   "metadata": {
    "executionInfo": {
     "elapsed": 14,
     "status": "ok",
     "timestamp": 1749960998329,
     "user": {
      "displayName": "Zach Bishop",
      "userId": "01140912989120325698"
     },
     "user_tz": -600
    },
    "id": "a3nmeyQxBrs6"
   },
   "outputs": [],
   "source": [
    "left = np.sort(data['left'].astype(int).tolist())\n",
    "right = np.sort(data['right'].astype(int).tolist())"
   ]
  },
  {
   "cell_type": "code",
   "execution_count": 46,
   "metadata": {
    "colab": {
     "base_uri": "https://localhost:8080/"
    },
    "executionInfo": {
     "elapsed": 32,
     "status": "ok",
     "timestamp": 1749961031417,
     "user": {
      "displayName": "Zach Bishop",
      "userId": "01140912989120325698"
     },
     "user_tz": -600
    },
    "id": "qgEeTM-NB6Eu",
    "outputId": "da41d1d5-a8d0-4e1f-d2c9-d9be653d1ebb"
   },
   "outputs": [
    {
     "name": "stdout",
     "output_type": "stream",
     "text": [
      "2375403\n"
     ]
    }
   ],
   "source": [
    "total = 0\n",
    "for i in range(len(left)):\n",
    "  total += abs(left[i] - right[i])\n",
    "\n",
    "print(total)"
   ]
  },
  {
   "cell_type": "markdown",
   "metadata": {
    "id": "-0bj6iIG0EBL"
   },
   "source": [
    "#### P2"
   ]
  },
  {
   "cell_type": "code",
   "execution_count": 51,
   "metadata": {
    "executionInfo": {
     "elapsed": 41,
     "status": "ok",
     "timestamp": 1749961502903,
     "user": {
      "displayName": "Zach Bishop",
      "userId": "01140912989120325698"
     },
     "user_tz": -600
    },
    "id": "NyBst4Brzb-i"
   },
   "outputs": [],
   "source": [
    "right_dict = {}\n",
    "\n",
    "for i in range(len(right)):\n",
    "  x = int(right[i])\n",
    "  if x not in right_dict:\n",
    "    right_dict[x] = 1\n",
    "  else:\n",
    "    right_dict[x] += 1\n"
   ]
  },
  {
   "cell_type": "code",
   "execution_count": 53,
   "metadata": {
    "colab": {
     "base_uri": "https://localhost:8080/"
    },
    "executionInfo": {
     "elapsed": 14,
     "status": "ok",
     "timestamp": 1749961647420,
     "user": {
      "displayName": "Zach Bishop",
      "userId": "01140912989120325698"
     },
     "user_tz": -600
    },
    "id": "IBsGc9IG04mH",
    "outputId": "36137623-b20a-41cf-ef4f-1a5d99ca3c47"
   },
   "outputs": [
    {
     "name": "stdout",
     "output_type": "stream",
     "text": [
      "23082277\n"
     ]
    }
   ],
   "source": [
    "total = 0\n",
    "\n",
    "ys = set(left)\n",
    "\n",
    "for i in range(len(ys)):\n",
    "  x = ys.pop()\n",
    "  if x in right_dict:\n",
    "    total += x * right_dict[x]\n",
    "\n",
    "print(total)"
   ]
  }
 ],
 "metadata": {
  "colab": {
   "authorship_tag": "ABX9TyOawqbVkHfn0kyHNhDGZpV6",
   "provenance": []
  },
  "kernelspec": {
   "display_name": "Python 3",
   "name": "python3"
  },
  "language_info": {
   "name": "python"
  }
 },
 "nbformat": 4,
 "nbformat_minor": 0
}
