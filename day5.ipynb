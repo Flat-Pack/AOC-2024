{
 "cells": [
  {
   "cell_type": "markdown",
   "id": "a2cf224f",
   "metadata": {},
   "source": [
    "#### P1\n"
   ]
  }
 ],
 "metadata": {
  "language_info": {
   "name": "python"
  }
 },
 "nbformat": 4,
 "nbformat_minor": 5
}
